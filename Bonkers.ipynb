{
 "cells": [
  {
   "cell_type": "code",
   "execution_count": 1,
   "id": "23e797ca",
   "metadata": {},
   "outputs": [],
   "source": [
    "import requests\n",
    "from bs4 import BeautifulSoup\n",
    "import pandas as pd\n",
    "import re"
   ]
  },
  {
   "cell_type": "markdown",
   "id": "f7cc99bd",
   "metadata": {},
   "source": [
    "## Scrapping Data"
   ]
  },
  {
   "cell_type": "code",
   "execution_count": 2,
   "id": "dc572df7",
   "metadata": {},
   "outputs": [],
   "source": [
    "product_links = []\n",
    "for i in range (1,23):\n",
    "    if(i==1):\n",
    "        url = \"https://www.bonkerscorner.com/product-category/men/\"\n",
    "        r = requests.get(url)\n",
    "        htmlContent = r.content\n",
    "        soup = BeautifulSoup(htmlContent,'html.parser')\n",
    "        products = soup.find_all('div',class_ = \"rey-productInner\")\n",
    "        for product in products:\n",
    "            title_div = product.find(\"div\", class_=\"rey-productThumbnail\")\n",
    "\n",
    "            product_links.append(title_div.find('a').get('href'))\n",
    "    else:\n",
    "        url = f\"https://www.bonkerscorner.com/product-category/men/page/{i}/\"\n",
    "        r = requests.get(url)\n",
    "        htmlContent = r.content\n",
    "        soup = BeautifulSoup(htmlContent,'html.parser')\n",
    "        products = soup.find_all('div',class_ = \"rey-productInner\")\n",
    "        for product in products:\n",
    "            title_div = product.find(\"div\", class_=\"rey-productThumbnail\")\n",
    "\n",
    "            product_links.append(title_div.find('a').get('href'))\n",
    "        "
   ]
  },
  {
   "cell_type": "code",
   "execution_count": 3,
   "id": "9b850484",
   "metadata": {},
   "outputs": [
    {
     "data": {
      "text/plain": [
       "343"
      ]
     },
     "execution_count": 3,
     "metadata": {},
     "output_type": "execute_result"
    }
   ],
   "source": [
    "len(product_links)"
   ]
  },
  {
   "cell_type": "code",
   "execution_count": 4,
   "id": "0e42d99d",
   "metadata": {},
   "outputs": [],
   "source": [
    "keys = ['Composition', 'GSM', 'Colour']\n",
    "patterns = [r'Composition:\\s*(.*)', r'GSM:\\s*(.*)', r'Colour:\\s*(.*)|Color:\\s*(.*)']"
   ]
  },
  {
   "cell_type": "code",
   "execution_count": 9,
   "id": "3ba6bde3",
   "metadata": {},
   "outputs": [],
   "source": [
    "d = {'link':[], 'title':[], 'OG price':[], 'DC price':[], 'Composition':[], 'GSM':[], 'Colour':[]}"
   ]
  },
  {
   "cell_type": "code",
   "execution_count": 10,
   "id": "8009702e",
   "metadata": {},
   "outputs": [],
   "source": [
    "for link in product_links:\n",
    "    url = link\n",
    "    r = requests.get(url)\n",
    "    htmlContent = r.content\n",
    "    soup = BeautifulSoup(htmlContent,'html.parser')\n",
    "    title = soup.find('div',class_=\"rey-innerSummary\")\n",
    "    desc = soup.find('div',class_=\"rey-wcPanel-inner\")\n",
    "    \n",
    "    d['link'].append(link)\n",
    "    d['title'].append(title.find('h1').get_text())\n",
    "    d['OG price'].append(title.find('del').get_text())\n",
    "    d['DC price'].append(title.find('ins').get_text())\n",
    "    \n",
    "    res = desc.get_text()\n",
    "    \n",
    "    for key, pattern in zip(keys, patterns):\n",
    "        match = re.search(pattern, res)\n",
    "        d[key].append(match.group(1) if match else '')"
   ]
  },
  {
   "cell_type": "code",
   "execution_count": 11,
   "id": "7267b222",
   "metadata": {},
   "outputs": [],
   "source": [
    "bonkers_df = pd.DataFrame.from_dict(d)"
   ]
  },
  {
   "cell_type": "code",
   "execution_count": 12,
   "id": "e8b260e0",
   "metadata": {},
   "outputs": [],
   "source": [
    "bonkers_df.to_csv('bonkers.csv', index=False)"
   ]
  },
  {
   "cell_type": "code",
   "execution_count": null,
   "id": "e967ed23",
   "metadata": {},
   "outputs": [],
   "source": []
  }
 ],
 "metadata": {
  "kernelspec": {
   "display_name": "Python 3 (ipykernel)",
   "language": "python",
   "name": "python3"
  },
  "language_info": {
   "codemirror_mode": {
    "name": "ipython",
    "version": 3
   },
   "file_extension": ".py",
   "mimetype": "text/x-python",
   "name": "python",
   "nbconvert_exporter": "python",
   "pygments_lexer": "ipython3",
   "version": "3.10.4"
  }
 },
 "nbformat": 4,
 "nbformat_minor": 5
}
